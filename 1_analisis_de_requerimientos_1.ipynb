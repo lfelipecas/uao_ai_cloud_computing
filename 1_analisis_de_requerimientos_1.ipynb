{
 "cells": [
  {
   "cell_type": "markdown",
   "metadata": {},
   "source": [
    "Course: COmputación en la nube.\n",
    "\n",
    "Module: 3 Modelos de servicio.\n",
    "\n",
    "Student name: Luis Felipe Castañeda Gallego."
   ]
  },
  {
   "cell_type": "markdown",
   "metadata": {},
   "source": [
    "## 1. Problem Selection"
   ]
  },
  {
   "cell_type": "markdown",
   "metadata": {},
   "source": [
    "The phenomenon under study is the competitive process of awarding government contracts. The problem to address is the ability to predict the business group or profile to which an entity belongs, based on historical data. This analysis will allow companies to better understand their position in the market, and regulatory bodies to identify possible awarding patterns."
   ]
  },
  {
   "cell_type": "markdown",
   "metadata": {},
   "source": [
    "## 2. Development of the Solution Proposal"
   ]
  },
  {
   "cell_type": "markdown",
   "metadata": {},
   "source": [
    "### 2.1. Description of the Modeled Phenomenon/Process and the Problem to Address"
   ]
  },
  {
   "cell_type": "markdown",
   "metadata": {},
   "source": [
    "To address the classification problem, several models can be used:\n",
    "1. Logistic Regression: It is a good initial option due to its simplicity and efficiency, and although it is a binary classification algorithm, it can be extended to multi-class classification using a 'one vs. rest' approach to address the case of multiple winners.\n",
    "2. Decision Trees: They are a good option since the resulting models can be visualized and understood easily, and these algorithms are not affected by data scaling.\n",
    "3. Random Forests: These use decision trees as their fundamental components, and since decision trees tend to overfit the models to the training data, random forests are a way to cope with and handle this problem."
   ]
  },
  {
   "cell_type": "markdown",
   "metadata": {},
   "source": [
    "### 2.2. Process of Obtaining/Generating the Dataset"
   ]
  },
  {
   "cell_type": "markdown",
   "metadata": {},
   "source": [
    "The data has been collected from https://www.usaspending.gov/  a public source that provides access to government contracting data in the United States. The specific data for all 2023 contracts information was downloaded from https://www.usaspending.gov/download_center/award_data_archive,  filtered by fiscal year 2023.\n",
    "\n",
    "The detail information about the data and its features can be consulted in the Usa Spendinf data Dictionary here https://www.usaspending.gov/data-dictionary. For this project, all the columns are an aggregation of each recipient (or company winner of a contract), and the final columns used in the last notebook (4_classification_models.ipynb) are:\n",
    "1. **federal_action_sum**: a processed column that takes data from the 'federal_action_obligation' element, which is \"Amount of Federal government’s obligation, de-obligation, or liability, in dollars, for an award transaction\".\n",
    "1. **recipient_country**: a processed column that takes data from the 'recipient_country_name' element, which is \"The name corresponding to the country code\".\n",
    "1. **recipient_state**: a processed column that takes data from the 'recipient_state_code' element, which is \"United States Postal Service (USPS) two-letter abbreviation for the state or territory in which the awardee or recipient’s legal business address is located. Identify States, the District of Columbia, territories (i.e., American Samoa, Guam, Northern Mariana Islands, Puerto Rico, U.S. Virgin Islands) and associated states (i.e., Republic of the Marshall Islands, the Federated States of Micronesia, and Palau) by their USPS two-letter abbreviation for the purposes of reporting\".\n",
    "1. **state_of_performance**: a processed column that takes data from the 'primary_place_of_performance_state_code' element, which is \"United States Postal Service (USPS) two-letter abbreviation for the state or territory indicating where the predominant performance of the award will be accomplished. Identify States, the District of Columbia, territories (i.e., American Samoa, Guam, Northern Mariana Islands, Puerto Rico, U.S. Virgin Islands) and associated states (i.e., Republic of the Marshall Islands, the Federated States of Micronesia, and Palau) by their USPS two-letter abbreviation for the purposes of reporting\".\n",
    "1. **award_type**: a processed column that takes data from the 'award_type' or 'ContractAwardTypeDescriptionTag'elelemnts, which is \"Description tag (by way of the FPDS Atom Feed) that explains the meaning of the code provided in the ContractAwardType Field\". Its domain values are: A = BPA Call, B = Purchase Order, C = Delivery Order, D = Definitive Contract.\n",
    "1. **type_of_contract_pricing**: a processed column that takes data from the 'type_of_contract_pricing' element, which is \"The type of contract as defined in FAR Part 16 that applies to this procurement\". Its domain value3s are: A = FIXED PRICE REDETERMINATION, B = FIXED PRICE LEVEL OF EFFORT, J = FIRM FIXED PRICE, K = FIXED PRICE WITH ECONOMIC PRICE ADJUSTMENT, L = FIXED PRICE INCENTIVE, M = FIXED PRICE AWARD FEE, R = COST PLUS AWARD FEE, S = COST NO FEE, T = COST SHARING, U = COST PLUS FIXED FEE, V = COST PLUS INCENTIVE FEE, Y = TIME AND MATERIALS, Z = LABOR HOURS, 1 = ORDER DEPENDENT (IDV ALLOWS PRICING ARRANGEMENT TO BE DETERMINED SEPARATELY FOR EACH ORDER), 2 = COMBINATION (APPLIES TO AWARDS WHERE TWO OR MORE OF THE ABOVE APPLY), 3 = OTHER (APPLIES TO AWARDS WHERE NONE OF THE ABOVE APPLY).\n",
    "1. **naics**: a processed column that takes data from the 'naics_code' element, which is \"The identifier that represents the North American Industrial Classification System (NAICS) Code assigned to the solicitation and resulting award identifying the industry in which the contract requirements are normally performed\".\n",
    "1. **extent_competed**: a processed column that takes data from the 'extent_competed' elelemnt, which is \"A code that represents the competitive nature of the contract\". Its domain values are: A = FULL AND OPEN COMPETITION, B = NOT AVAILABLE FOR COMPETITION, C = NOT COMPETED, D = FULL AND OPEN COMPETITION AFTER EXCLUSION OF SOURCES, E = FOLLOW ON TO COMPETED ACTION, F = COMPETED UNDER SAP, G = NOT COMPETED UNDER SAP, CDO = COMPETITIVE DELIVERY ORDER, NDO = NON-COMPETITIVE DELIVERY ORDER.\n",
    "1. **c8a_program**: a processed column that takes data from the 'c8a_program_participant' elelemnt, which is \"List characteristic of the contractor such as whether the selected contractor is an 8(a) Program Participant Organization or not. It can be derived from the SAM data element, 'Business Types'\". Its domainvalues are: F = False and T = True.\n",
    "1. **number_of_contracts**: a processed column that summs the number of contracts each recipient has won in the fiscal year.\n",
    "1. **cluster_label**: a column that indicates the group, profile or cluster a company belong to. It is the result of a K-means clusterization performed in the third notebook (3_create_labels_for_fy_2023_companies.ipynb)."
   ]
  },
  {
   "cell_type": "markdown",
   "metadata": {},
   "source": [
    "### 2.3. Description of the Machine Learning Problem"
   ]
  },
  {
   "cell_type": "markdown",
   "metadata": {},
   "source": [
    "The problem will be addressed as a classification task, with the aim of predicting the profile or group to which a winning entity belongs. The input variables include numerical and categorical features, which account for the details of each company winner, considering that the target variable will be one of the found business groups or profiles."
   ]
  },
  {
   "cell_type": "markdown",
   "metadata": {},
   "source": []
  }
 ],
 "metadata": {
  "language_info": {
   "name": "python"
  }
 },
 "nbformat": 4,
 "nbformat_minor": 2
}
